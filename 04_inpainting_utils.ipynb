{
 "cells": [
  {
   "cell_type": "code",
   "execution_count": null,
   "metadata": {},
   "outputs": [],
   "source": [
    "# default_exp inpainting_utils"
   ]
  },
  {
   "cell_type": "markdown",
   "metadata": {},
   "source": [
    "# inpaint_melanoma\n",
    "\n",
    "> Inpaint a skin lesion"
   ]
  },
  {
   "cell_type": "code",
   "execution_count": null,
   "metadata": {},
   "outputs": [],
   "source": [
    "#hide\n",
    "from nbdev.showdoc import *"
   ]
  },
  {
   "cell_type": "code",
   "execution_count": null,
   "metadata": {},
   "outputs": [],
   "source": [
    "#export\n",
    "import numpy as np\n",
    "from PIL import Image\n",
    "import PIL.ImageDraw as ImageDraw\n",
    "import PIL.ImageFont as ImageFont\n",
    "from inpaint_melanoma.common_utils import *"
   ]
  },
  {
   "cell_type": "code",
   "execution_count": null,
   "metadata": {},
   "outputs": [],
   "source": [
    "#export\n",
    "def get_text_mask(for_image, sz=20):\n",
    "    font_fname = '/usr/share/fonts/truetype/freefont/FreeSansBold.ttf'\n",
    "    font_size = sz\n",
    "    font = ImageFont.truetype(font_fname, font_size)\n",
    "\n",
    "    img_mask = Image.fromarray(np.array(for_image)*0+255)\n",
    "    draw = ImageDraw.Draw(img_mask)\n",
    "    draw.text((128, 128), \"hello world\", font=font, fill='rgb(0, 0, 0)')\n",
    "\n",
    "    return img_mask\n",
    "\n",
    "def get_bernoulli_mask(for_image, zero_fraction=0.95):\n",
    "    img_mask_np=(np.random.random_sample(size=pil_to_np(for_image).shape) > zero_fraction).astype(int)\n",
    "    img_mask = np_to_pil(img_mask_np)\n",
    "    \n",
    "    return img_mask"
   ]
  },
  {
   "cell_type": "code",
   "execution_count": null,
   "metadata": {},
   "outputs": [],
   "source": []
  }
 ],
 "metadata": {
  "kernelspec": {
   "display_name": "Python 3",
   "language": "python",
   "name": "python3"
  }
 },
 "nbformat": 4,
 "nbformat_minor": 4
}
